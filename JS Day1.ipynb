{
 "cells": [
  {
   "cell_type": "code",
   "execution_count": 4,
   "metadata": {
    "collapsed": false
   },
   "outputs": [
    {
     "data": {
      "text/plain": [
       "'Anunaya'"
      ]
     },
     "execution_count": 4,
     "metadata": {},
     "output_type": "execute_result"
    }
   ],
   "source": [
    "a = 'Anunaya'"
   ]
  },
  {
   "cell_type": "markdown",
   "metadata": {},
   "source": [
    "# JavaScript2\n",
    "\n",
    "JS has following data types -  \n",
    "* Number\n",
    "* String\n",
    "* Boolean\n",
    "* Undefined\n",
    "* Null\n",
    "* Object\n",
    "\n",
    "Object is mutable while others(primitive data types) are immutable.\n",
    "\n",
    "**JS Object**  \n",
    "\n",
    "An object is an unordered list of primitive data types (and sometimes reference data types) that is stored as a series of name-value pairs. Each item in the list is called a property (functions are called methods).\n",
    "\n",
    "```js\n",
    "var emp1 = {fName: 'Anunaya', lName: 'Srivastava'}\n",
    "```\n",
    "`fName` and `lName` are properties and 'Anunaya' and 'Srivastava' are their values respectively.\n",
    "\n",
    "**Object vs Primitive data type**  \n",
    "\n",
    "Instances of Object store references, while instances of primitive data types store actual value.\n",
    "```js\n",
    "var person = \"Anunaya\"\n",
    "var anotherPerson = person\n",
    "anotherPerson     // 'Anunaya'\n",
    "person = \"Ankit\"  // 'Ankit'\n",
    "anotherPerson     // 'Anunaya'\n",
    "```\n",
    "\n",
    "```js\n",
    "var person = {name: 'Anunaya'}\n",
    "var anotherPerson = person\n",
    "person.name = 'Ankit'\n",
    "\n",
    "person.name   // 'Ankit'\n",
    "anotherPerson.name   // 'Ankit'\n",
    "```\n",
    "\n",
    "**Creating objects**  \n",
    "\n",
    "These are the two common ways to create objects:\n",
    "\n",
    "1. Object Literals\n",
    "```js\n",
    "var emp1 = {fName: 'Anunaya', lName: 'Srivastava'}\n",
    "```\n",
    "\n",
    "2. Object Constructor(using the `new` keyword)\n",
    "```js\n",
    "var emp1 = new Object()\n",
    "emp1.fName = 'Anunaya'\n",
    "emp1.getFullName = function(){...}\n",
    "```\n",
    "\n",
    "\n",
    "\n",
    "\n",
    "\n",
    "\n",
    "\n",
    "\n",
    "\n",
    "\n",
    "\n",
    "\n"
   ]
  },
  {
   "cell_type": "markdown",
   "metadata": {},
   "source": [
    "### OOPS in JS\n",
    "\n",
    "Functions can act as classes in JS.  \n",
    "\n",
    "Therefore functions must support -  \n",
    "1. Abstraction\n",
    "2. Encapsulation\n",
    "3. Inheritance\n",
    "4. Polymorphism\n",
    "\n",
    "**Class fields and methods**  \n",
    "\n",
    "Fields or methods are attached to the **context** of the function(class) using `this` keyword inside the function. The context variables are available to all the objects(created using `new`) of that class."
   ]
  },
  {
   "cell_type": "code",
   "execution_count": null,
   "metadata": {
    "collapsed": true
   },
   "outputs": [],
   "source": [
    "function Employee(fName, lName){\n",
    "    this.fName = fName\n",
    "    this.lName = lName\n",
    "    this.getFullName = function(){\n",
    "        return fName + ' ' + lName\n",
    "    }\n",
    "}\n",
    "\n",
    "var emp1 = new Employee('Anunaya', 'Srivastava')"
   ]
  },
  {
   "cell_type": "code",
   "execution_count": 10,
   "metadata": {
    "collapsed": false
   },
   "outputs": [
    {
     "data": {
      "text/plain": [
       "'Anunaya'"
      ]
     },
     "execution_count": 10,
     "metadata": {},
     "output_type": "execute_result"
    }
   ],
   "source": [
    "emp1.fName"
   ]
  },
  {
   "cell_type": "code",
   "execution_count": 9,
   "metadata": {
    "collapsed": false
   },
   "outputs": [
    {
     "data": {
      "text/plain": [
       "'Srivastava'"
      ]
     },
     "execution_count": 9,
     "metadata": {},
     "output_type": "execute_result"
    }
   ],
   "source": [
    "emp1.lName"
   ]
  },
  {
   "cell_type": "code",
   "execution_count": 13,
   "metadata": {
    "collapsed": false
   },
   "outputs": [
    {
     "data": {
      "text/plain": [
       "'Anunaya Srivastava'"
      ]
     },
     "execution_count": 13,
     "metadata": {},
     "output_type": "execute_result"
    }
   ],
   "source": [
    "emp1.getFullName()"
   ]
  },
  {
   "cell_type": "markdown",
   "metadata": {},
   "source": [
    "**Inherited Properties vs Own Properties**  \n",
    "\n",
    "Own properties belong to the object itself, while inherited properties are *inherited* from the parent class.  \n",
    "Inherited properties are defined using `prototype` keyword on the class.  "
   ]
  },
  {
   "cell_type": "code",
   "execution_count": 16,
   "metadata": {
    "collapsed": false
   },
   "outputs": [
    {
     "data": {
      "text/plain": [
       "[Function]"
      ]
     },
     "execution_count": 16,
     "metadata": {},
     "output_type": "execute_result"
    }
   ],
   "source": [
    "Employee.prototype.sayHello = function(){\n",
    "    console.log(\"Hello, I am \" + this.fName);\n",
    "}"
   ]
  },
  {
   "cell_type": "code",
   "execution_count": 17,
   "metadata": {
    "collapsed": false
   },
   "outputs": [
    {
     "name": "stdout",
     "output_type": "stream",
     "text": [
      "Hello, I am Anunaya\n"
     ]
    },
    {
     "data": {
      "text/plain": [
       "undefined"
      ]
     },
     "execution_count": 17,
     "metadata": {},
     "output_type": "execute_result"
    }
   ],
   "source": [
    "emp1.sayHello()"
   ]
  },
  {
   "cell_type": "code",
   "execution_count": 18,
   "metadata": {
    "collapsed": false
   },
   "outputs": [
    {
     "name": "stdout",
     "output_type": "stream",
     "text": [
      "Hello, I am Vineet\n"
     ]
    },
    {
     "data": {
      "text/plain": [
       "undefined"
      ]
     },
     "execution_count": 18,
     "metadata": {},
     "output_type": "execute_result"
    }
   ],
   "source": [
    "var emp2 = new Employee('Vineet', 'Dev')\n",
    "emp2.sayHello()"
   ]
  },
  {
   "cell_type": "markdown",
   "metadata": {},
   "source": [
    "Example of OOPS"
   ]
  },
  {
   "cell_type": "code",
   "execution_count": null,
   "metadata": {
    "collapsed": true
   },
   "outputs": [],
   "source": []
  },
  {
   "cell_type": "code",
   "execution_count": 32,
   "metadata": {
    "collapsed": false
   },
   "outputs": [
    {
     "data": {
      "text/plain": [
       "{ length: undefined, breadth: undefined, getArea: [Function] }"
      ]
     },
     "execution_count": 32,
     "metadata": {},
     "output_type": "execute_result"
    }
   ],
   "source": [
    "var Shape = function(){\n",
    "     this.getArea = function(){};\n",
    "}\n",
    "\n",
    "var Circle = function(pRadius){\n",
    "    Shape();\n",
    "    this.radius = pRadius;\n",
    "    // this.getArea = \n",
    "}\n",
    "Circle.prototype = new Shape();\n",
    "Circle.prototype.getArea = function(){\n",
    "    return Math.PI*Math.pow(this.radius, 2)\n",
    "}\n",
    "\n",
    "var Quadrilateral = function(){\n",
    "    Shape();\n",
    "}\n",
    "Quadrilateral.prototype = new Shape();\n",
    "\n",
    "var Square = function(pSide){\n",
    "    Quadrilateral();\n",
    "    this.side = pSide;\n",
    "    this.getArea = function(){\n",
    "        return Math.pow(this.side, 2)\n",
    "    }\n",
    "}\n",
    "Square.prototype = new Quadrilateral();\n",
    "\n",
    "var Rectangle = function(pLength, pBreadth){\n",
    "    Quadrilateral();\n",
    "    this.length = pLength;\n",
    "    this.breadth = pBreadth;\n",
    "    this.getArea = function(){\n",
    "        return this.length * this.breadth;\n",
    "    }\n",
    "}\n",
    "Rectangle.prototype = new Rectangle();"
   ]
  },
  {
   "cell_type": "code",
   "execution_count": 27,
   "metadata": {
    "collapsed": false
   },
   "outputs": [
    {
     "data": {
      "text/plain": [
       "314.1592653589793"
      ]
     },
     "execution_count": 27,
     "metadata": {},
     "output_type": "execute_result"
    }
   ],
   "source": [
    "var c =  new Circle(10)\n",
    "c.getArea()"
   ]
  },
  {
   "cell_type": "code",
   "execution_count": 29,
   "metadata": {
    "collapsed": false
   },
   "outputs": [
    {
     "data": {
      "text/plain": [
       "NaN"
      ]
     },
     "execution_count": 29,
     "metadata": {},
     "output_type": "execute_result"
    }
   ],
   "source": [
    "Circle.prototype.getArea()"
   ]
  },
  {
   "cell_type": "code",
   "execution_count": 34,
   "metadata": {
    "collapsed": false
   },
   "outputs": [
    {
     "data": {
      "text/plain": [
       "16"
      ]
     },
     "execution_count": 34,
     "metadata": {},
     "output_type": "execute_result"
    }
   ],
   "source": [
    "var sq = new Square(4)\n",
    "sq.getArea()"
   ]
  },
  {
   "cell_type": "markdown",
   "metadata": {},
   "source": [
    "## ES6\n",
    "\n",
    "With ECMAScript6(ES6), classes are defined in a new and more intuitive format."
   ]
  },
  {
   "cell_type": "code",
   "execution_count": null,
   "metadata": {
    "collapsed": true
   },
   "outputs": [],
   "source": [
    "class Shape(){}"
   ]
  }
 ],
 "metadata": {
  "kernelspec": {
   "display_name": "Javascript (Node.js)",
   "language": "javascript",
   "name": "javascript"
  },
  "language_info": {
   "file_extension": ".js",
   "mimetype": "application/javascript",
   "name": "javascript",
   "version": "0.10.46"
  }
 },
 "nbformat": 4,
 "nbformat_minor": 0
}
